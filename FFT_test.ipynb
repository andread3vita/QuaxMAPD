{
 "cells": [
  {
   "cell_type": "code",
   "execution_count": 1,
   "id": "a876a3ac",
   "metadata": {},
   "outputs": [],
   "source": [
    "import time\n",
    "import os\n",
    "import json\n",
    "import struct\n",
    "\n",
    "import numpy as np\n",
    "import scipy as sp\n",
    "import matplotlib.pyplot as plt"
   ]
  },
  {
   "cell_type": "markdown",
   "id": "e5792de6",
   "metadata": {},
   "source": [
    "Load data"
   ]
  },
  {
   "cell_type": "code",
   "execution_count": 2,
   "id": "9a433e40",
   "metadata": {},
   "outputs": [],
   "source": [
    "download_path = \"/home/lupi/Project/LocalData/\"\n",
    "\n",
    "fr = open(download_path+'temp_q_00005.dat', 'rb')\n",
    "real = bytearray(fr.read())\n",
    "\n",
    "fi = open(download_path+'temp_i_00005.dat', 'rb')\n",
    "imag = bytearray(fi.read())"
   ]
  },
  {
   "cell_type": "code",
   "execution_count": 3,
   "id": "d80fede1",
   "metadata": {},
   "outputs": [
    {
     "name": "stdout",
     "output_type": "stream",
     "text": [
      "N. samples: 8388608 \n",
      "N. bins in frequency spectrum: 4096 \n",
      "N. of FFT computed: 2048 \n",
      "delta_nu: 488.28125\n"
     ]
    }
   ],
   "source": [
    "n_samples = len(real) // 4 # 8192 * 2**10 = 2**13 * 2**10\n",
    "n_bins = 4 * 2**10\n",
    "n_fft = n_samples // n_bins\n",
    "S_R = 2 * 10**6 # sample rate\n",
    "delta_nu = S_R / n_bins\n",
    "\n",
    "print(\"N. samples:\", n_samples,\n",
    "      \"\\nN. bins in frequency spectrum:\", n_bins,\n",
    "      \"\\nN. of FFT computed:\", n_fft,\n",
    "      \"\\ndelta_nu:\", delta_nu)"
   ]
  },
  {
   "cell_type": "code",
   "execution_count": 13,
   "id": "d488910f",
   "metadata": {},
   "outputs": [
    {
     "data": {
      "text/plain": [
       "199"
      ]
     },
     "execution_count": 13,
     "metadata": {},
     "output_type": "execute_result"
    }
   ],
   "source": [
    "real[1]"
   ]
  },
  {
   "cell_type": "code",
   "execution_count": 12,
   "id": "591ee939",
   "metadata": {},
   "outputs": [],
   "source": [
    "rval = struct.unpack('f'*(len(real)//4), real)\n",
    "ival = struct.unpack('f'*(len(imag)//4), imag)\n"
   ]
  },
  {
   "cell_type": "code",
   "execution_count": 17,
   "id": "87b18189",
   "metadata": {},
   "outputs": [],
   "source": [
    "def chunks(L, n):\n",
    "    \"\"\" Yield successive n-sized chunks from L.\n",
    "    \"\"\"\n",
    "    for i in range(0, len(L), n):\n",
    "        yield L[i:i+n]"
   ]
  },
  {
   "cell_type": "code",
   "execution_count": 26,
   "id": "af271e06",
   "metadata": {},
   "outputs": [],
   "source": [
    "r = np.array(list(chunks(rval, n_bins)))\n",
    "i = np.array(list(chunks(ival, n_bins)))"
   ]
  },
  {
   "cell_type": "code",
   "execution_count": 42,
   "id": "2a399859",
   "metadata": {},
   "outputs": [
    {
     "data": {
      "text/plain": [
       "(2048, 4096)"
      ]
     },
     "execution_count": 42,
     "metadata": {},
     "output_type": "execute_result"
    }
   ],
   "source": [
    "v = r + 1j*i\n",
    "v.shape"
   ]
  },
  {
   "cell_type": "code",
   "execution_count": 39,
   "id": "89630044",
   "metadata": {},
   "outputs": [],
   "source": [
    "f = np.fft.fft(v)"
   ]
  },
  {
   "cell_type": "code",
   "execution_count": 41,
   "id": "2596f5f7",
   "metadata": {},
   "outputs": [
    {
     "data": {
      "text/plain": [
       "(2048, 4096)"
      ]
     },
     "execution_count": 41,
     "metadata": {},
     "output_type": "execute_result"
    }
   ],
   "source": [
    "f.shape"
   ]
  },
  {
   "cell_type": "code",
   "execution_count": 44,
   "id": "b804686e",
   "metadata": {},
   "outputs": [],
   "source": [
    "p = np.abs(f)"
   ]
  },
  {
   "cell_type": "code",
   "execution_count": 51,
   "id": "2c7ce294",
   "metadata": {},
   "outputs": [
    {
     "data": {
      "text/plain": [
       "(2048, 4096)"
      ]
     },
     "execution_count": 51,
     "metadata": {},
     "output_type": "execute_result"
    }
   ],
   "source": [
    "p.shape"
   ]
  },
  {
   "cell_type": "code",
   "execution_count": 48,
   "id": "7575d01f",
   "metadata": {},
   "outputs": [],
   "source": [
    "p_mean = np.mean(p, axis=0)"
   ]
  },
  {
   "cell_type": "code",
   "execution_count": 49,
   "id": "19cee960",
   "metadata": {},
   "outputs": [
    {
     "data": {
      "text/plain": [
       "(4096,)"
      ]
     },
     "execution_count": 49,
     "metadata": {},
     "output_type": "execute_result"
    }
   ],
   "source": [
    "p_mean.shape"
   ]
  },
  {
   "cell_type": "code",
   "execution_count": 55,
   "id": "8734248d",
   "metadata": {},
   "outputs": [],
   "source": [
    "freq = np.fft.fftfreq(n_bins, d=1/delta_nu)"
   ]
  },
  {
   "cell_type": "code",
   "execution_count": 56,
   "id": "29e68ec1",
   "metadata": {},
   "outputs": [
    {
     "data": {
      "text/plain": [
       "[<matplotlib.lines.Line2D at 0x7fb17f021c60>]"
      ]
     },
     "execution_count": 56,
     "metadata": {},
     "output_type": "execute_result"
    },
    {
     "data": {
      "image/png": "[encoded data removed]",
      "text/plain": [
       "<Figure size 640x480 with 1 Axes>"
      ]
     },
     "metadata": {},
     "output_type": "display_data"
    }
   ],
   "source": [
    "plt.plot(freq, p_mean)"
   ]
  },
  {
   "cell_type": "code",
   "execution_count": 57,
   "id": "5fce994b",
   "metadata": {},
   "outputs": [
    {
     "data": {
      "text/plain": [
       "array([ 0.        ,  0.11920929,  0.23841858, ..., -0.35762787,\n",
       "       -0.23841858, -0.11920929])"
      ]
     },
     "execution_count": 57,
     "metadata": {},
     "output_type": "execute_result"
    }
   ],
   "source": [
    "freq"
   ]
  }
 ],
 "metadata": {
  "kernelspec": {
   "display_name": "Python 3 (ipykernel)",
   "language": "python",
   "name": "python3"
  },
  "language_info": {
   "codemirror_mode": {
    "name": "ipython",
    "version": 3
   },
   "file_extension": ".py",
   "mimetype": "text/x-python",
   "name": "python",
   "nbconvert_exporter": "python",
   "pygments_lexer": "ipython3",
   "version": "3.10.6"
  }
 },
 "nbformat": 4,
 "nbformat_minor": 5
}
